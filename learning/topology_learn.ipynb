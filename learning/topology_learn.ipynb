{
 "cells": [
  {
   "cell_type": "code",
   "execution_count": 1,
   "metadata": {},
   "outputs": [],
   "source": [
    "import sys\n",
    "\n",
    "import math\n",
    "import numpy as np\n",
    "import pylab\n",
    "import nest\n",
    "import nest.raster_plot\n",
    "import nest.topology as tp\n",
    "import uuid"
   ]
  },
  {
   "cell_type": "code",
   "execution_count": 2,
   "metadata": {},
   "outputs": [],
   "source": [
    "nest.CopyModel('stdp_synapse', 'excitatory', {'mu_plus': 1.0, 'mu_minus':1.0})\n",
    "nest.CopyModel('stdp_synapse', 'inhibitory', {'mu_plus': -1.0, 'mu_minus':-1.0})\n",
    "l = tp.CreateLayer({\n",
    "                 \"rows\" : 5, \n",
    "                 \"columns\" : 5, \n",
    "                 \"elements\" : \"iaf_psc_alpha\"} )"
   ]
  },
  {
   "cell_type": "code",
   "execution_count": 3,
   "metadata": {},
   "outputs": [],
   "source": [
    "# Rectangular mask, constant kernel, non-centered anchor\n",
    "conn = {'connection_type': 'divergent',\n",
    "           # 'synapse_model': 'excitatory',\n",
    "            'mask': {\"circular\":{\"radius\":0.75 }},\n",
    "            'kernel': {'gaussian': {'p_center': 1.0,'sigma': 0.15}},\n",
    "            'allow_autapses':False\n",
    "            }"
   ]
  },
  {
   "cell_type": "code",
   "execution_count": 4,
   "metadata": {},
   "outputs": [
    {
     "data": {
      "image/png": "[encoded data removed]",
      "text/plain": [
       "<Figure size 432x288 with 1 Axes>"
      ]
     },
     "metadata": {},
     "output_type": "display_data"
    }
   ],
   "source": [
    "fig = tp.PlotLayer(l, nodesize=80)"
   ]
  },
  {
   "cell_type": "code",
   "execution_count": 5,
   "metadata": {},
   "outputs": [],
   "source": [
    "tp.ConnectLayers(l,l ,conn)"
   ]
  },
  {
   "cell_type": "code",
   "execution_count": null,
   "metadata": {},
   "outputs": [],
   "source": [
    "center = tp.FindCenterElement(l)\n",
    "\n",
    "tp.PlotTargets(\n",
    "    center, \n",
    "    l, \n",
    "    fig=fig, \n",
    "    mask=conn[\"mask\"], \n",
    "    kernel=conn[\"kernel\"],\n",
    "    tgt_color='red'\n",
    ")"
   ]
  },
  {
   "cell_type": "code",
   "execution_count": null,
   "metadata": {},
   "outputs": [],
   "source": []
  },
  {
   "cell_type": "code",
   "execution_count": null,
   "metadata": {},
   "outputs": [],
   "source": []
  }
 ],
 "metadata": {
  "kernelspec": {
   "display_name": "Python 3",
   "language": "python",
   "name": "python3"
  },
  "language_info": {
   "codemirror_mode": {
    "name": "ipython",
    "version": 3
   },
   "file_extension": ".py",
   "mimetype": "text/x-python",
   "name": "python",
   "nbconvert_exporter": "python",
   "pygments_lexer": "ipython3",
   "version": "3.8.2"
  }
 },
 "nbformat": 4,
 "nbformat_minor": 4
}
